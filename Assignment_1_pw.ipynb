{
  "nbformat": 4,
  "nbformat_minor": 0,
  "metadata": {
    "colab": {
      "provenance": []
    },
    "kernelspec": {
      "name": "python3",
      "display_name": "Python 3"
    },
    "language_info": {
      "name": "python"
    }
  },
  "cells": [
    {
      "cell_type": "markdown",
      "source": [
        "### Que 1. **Explain the key features of Python that make it a popular choice for programming.**\n",
        "\n",
        "**1. Free and Open Source**\n",
        ": Python language is freely available at the official website and you can download it from the given download link below click on the Download Python keyword. Download Python Since it is open-source, this means that source code is also available to the public. So you can download it, use it as well as share it.\n",
        "\n",
        "**2. Easy to code**\n",
        ": Python is a high-level programming language. Python is very easy to learn the language as compared to other languages like C, C#, Javascript, Java, etc. It is very easy to code in the Python language and anybody can learn Python basics in a few hours or days. It is also a developer-friendly language.\n",
        "\n",
        "**3. Easy to Read**\n",
        "As you will see, learning Python is quite simple. As was already established, Python’s syntax is really straightforward. The code block is defined by the indentations rather than by semicolons or brackets.\n",
        "\n",
        "**4. Object-Oriented Language**\n",
        "One of the key features of Python is Object-Oriented programming. Python supports object-oriented language and concepts of classes, object encapsulation, etc.\n",
        "\n",
        "**5. High-Level Language**\n",
        ":Python is a high-level language. When we write programs in Python, we do not need to remember the system architecture, nor do we need to manage the memory.\n",
        "\n",
        "**6. Large Community Support**\n",
        ": Python has gained popularity over the years. Our questions are constantly answered by the enormous StackOverflow community. These websites have already provided answers to many questions about Python, so Python users can consult them as needed.\n",
        "\n",
        "**7. Easy to Debug**\n",
        ": Excellent information for mistake tracing. You will be able to quickly identify and correct the majority of your program’s issues once you understand how to interpret Python’s error traces. Simply by glancing at the code, you can determine what it is designed to perform.\n",
        "\n",
        "**8. Python is a Portable language**\n",
        ": Python language is also a portable language. For example, if we have Python code for Windows and if we want to run this code on other platforms such as Linux, Unix, and Mac then we do not need to change it, we can run this code on any platform.\n",
        "\n",
        "**9. Python is an Integrated language**\n",
        ": Python is also an Integrated language because we can easily integrate Python with other languages like C, C++, etc.\n",
        "\n",
        "**10. Interpreted Language**\n",
        ": Python is an Interpreted Language because Python code is executed line by line at a time. like other languages C, C++, Java, etc. there is no need to compile Python code this makes it easier to debug our code. The source code of Python is converted into an immediate form called bytecode.\n",
        "\n",
        "**11.Large Standard Library**\n",
        ": Python has a large standard library that provides a rich set of modules and functions so you do not have to write your own code for every single thing. There are many libraries present in Python such as regular expressions, unit-testing, web browsers, etc.\n",
        "\n",
        "**12. Dynamically Typed Language**\n",
        ": Python is a dynamically-typed language. That means the type (for example- int, double, long, etc.) for a variable is decided at run time not in advance because of this feature we don’t need to specify the type of variable.\n",
        "\n",
        "**13. Frontend and backend development**\n",
        "With a new project py script, you can run and write Python codes in HTML with the help of some simple tags. This will help you do frontend development work in Python like javascript. Backend is the strong forte of Python it’s extensively used for this work cause of its frameworks like Django and Flask.\n",
        "\n",
        "**14. Allocating Memory Dynamically**\n",
        "In Python, the variable data type does not need to be specified. The memory is automatically allocated to a variable at runtime when it is given a value. Developers do not need to write int y = 18 if the integer value 15 is set to y. You may just type y=18.\n",
        "\n",
        "\n",
        "\n",
        "\n",
        "\n",
        "\n"
      ],
      "metadata": {
        "id": "ASQcdw7M5TM3"
      }
    },
    {
      "cell_type": "markdown",
      "source": [
        "### **Que 2. Describe the role of predefined keywords in Python and provide examples of how they are used in a program.**\n",
        "\n",
        "Predefined keywords in Python are reserved words that have special meaning within the language. These keywords are integral to Python's syntax and structure, and they cannot be used as identifiers (e.g., variable names, function names) because they are reserved for specific programming functions.\n",
        "\n",
        "**Role of Predefined Keywords:**\n",
        "\n",
        "*1.Defining Structure and Flow:* Keywords help define the structure of Python code, including loops, conditionals, functions, and classes.\n",
        "\n",
        "*2.Control Flow:* Keywords control the flow of the program, such as determining the execution of blocks of code (e.g., if, else, while, for).\n",
        "\n",
        "*3.Data Management:* Keywords like True, False, None, and class help manage data and its behaviour.\n",
        "\n",
        "*4.Exception Handling:* Keywords such as try, except, finally, and raise are used to handle exceptions and errors in the code.\n"
      ],
      "metadata": {
        "id": "dedBxod9A3bc"
      }
    },
    {
      "cell_type": "markdown",
      "source": [
        "### **Que 3. Compare and contrast mutable and immutable objects in Python with examples.**\n",
        "\n",
        "In Python, objects can be categorized as mutable or immutable based on whether their state (i.e., their data or attributes) can be modified after they are created.\n",
        "\n",
        "**Mutable Objects:**\n",
        "\n",
        "**Definition:** Mutable objects are those that can be modified after they are\n",
        "created. You can change the contents or state of a mutable object without creating a new object.\n",
        "\n",
        "\n",
        "**Examples:**  \n",
        "Lists, dictionaries, sets, and byte arrays are common examples of mutable objects.\n",
        "\n",
        "**Immutable Objects:**\n",
        "\n",
        "**Definition:** Immutable objects cannot be modified after they are created. Any operation that appears to modify an immutable object actually creates a new object with the modified content.\n",
        "\n",
        "**Examples:** Strings, tuples, integers, floats, and frozen sets are common examples of immutable objects.\n"
      ],
      "metadata": {
        "id": "mT87Fa39EJbN"
      }
    },
    {
      "cell_type": "code",
      "source": [
        "#Examples of mutable object\n",
        "# 1. List\n",
        "my_list = [1, 2, 3]\n",
        "my_list[0] = 0\n",
        "print(my_list)\n"
      ],
      "metadata": {
        "colab": {
          "base_uri": "https://localhost:8080/"
        },
        "id": "mr8U68fpHF4w",
        "outputId": "b5f03976-688a-4302-ab15-8518e3c10fa4"
      },
      "execution_count": 6,
      "outputs": [
        {
          "output_type": "stream",
          "name": "stdout",
          "text": [
            "[0, 2, 3]\n"
          ]
        }
      ]
    },
    {
      "cell_type": "code",
      "source": [
        "from google.colab import drive\n",
        "drive.mount('/content/drive')"
      ],
      "metadata": {
        "id": "KSwxYqlyTKoS"
      },
      "execution_count": null,
      "outputs": []
    },
    {
      "cell_type": "code",
      "source": [
        "# 2.Dictionaries\n",
        "my_dict = {\"a\": 1, \"b\": 2}\n",
        "my_dict[\"a\"] = 4\n",
        "print(my_dict)\n"
      ],
      "metadata": {
        "colab": {
          "base_uri": "https://localhost:8080/"
        },
        "id": "Uz_VWzmiGywz",
        "outputId": "46279188-888c-4f88-8667-62c357e67101"
      },
      "execution_count": 5,
      "outputs": [
        {
          "output_type": "stream",
          "name": "stdout",
          "text": [
            "{'a': 4, 'b': 2}\n"
          ]
        }
      ]
    },
    {
      "cell_type": "code",
      "source": [
        "#3.set\n",
        "my_set = {1, 2, 3}\n",
        "my_set.add(4)\n",
        "print(my_set)\n"
      ],
      "metadata": {
        "colab": {
          "base_uri": "https://localhost:8080/"
        },
        "id": "zrzENLVkIUwM",
        "outputId": "e665317d-2de0-421d-831b-f1ef09a84d55"
      },
      "execution_count": 4,
      "outputs": [
        {
          "output_type": "stream",
          "name": "stdout",
          "text": [
            "{1, 2, 3, 4}\n"
          ]
        }
      ]
    },
    {
      "cell_type": "code",
      "source": [
        "#Eamples of immutable object\n",
        "#1.integer\n",
        "x = 2\n",
        "x = x + 1\n",
        "print(x)\n"
      ],
      "metadata": {
        "colab": {
          "base_uri": "https://localhost:8080/"
        },
        "id": "UKerYtUPJb7-",
        "outputId": "43f850cc-e5e0-4ca3-d6ce-fec3681738ad"
      },
      "execution_count": 7,
      "outputs": [
        {
          "output_type": "stream",
          "name": "stdout",
          "text": [
            "3\n"
          ]
        }
      ]
    },
    {
      "cell_type": "code",
      "source": [
        "#2.string\n",
        "my_str = \"hello\"\n",
        "new_str = my_str + \" world\"\n",
        "print(my_str)\n",
        "print(new_str)\n"
      ],
      "metadata": {
        "colab": {
          "base_uri": "https://localhost:8080/"
        },
        "id": "9FPI_E4vJvQM",
        "outputId": "e17d8ada-77f2-4a64-f381-1e8253434a9f"
      },
      "execution_count": 9,
      "outputs": [
        {
          "output_type": "stream",
          "name": "stdout",
          "text": [
            "hello\n",
            "hello world\n"
          ]
        }
      ]
    },
    {
      "cell_type": "markdown",
      "source": [
        "### **Que 4.Explain the concept of type casting in Python with examples.**\n",
        "Type casting in Python refers to the conversion of one data type to another. This is useful when you need to perform operations that require a specific data type or when you want to avoid type-related errors. Python provides both implicit and explicit type casting.\n",
        "\n",
        "**1. Implicit Type Casting**\n",
        "Definition: Python automatically converts one data type to another without the programmer's intervention. This usually happens when performing operations between different types, where Python tries to prevent data loss or errors.\n",
        "\n",
        "**2. Explicit Type Casting**\n",
        "\n",
        "*Definition*: Explicit type casting (also known as type conversion) is when the programmer manually converts one data type to another using built-in functions.\n",
        "\n",
        "*Common Type Casting Functions:*\n",
        "\n",
        "int(): Converts a value to an integer.\n",
        "\n",
        "float(): Converts a value to a float.\n",
        "\n",
        "str(): Converts a value to a string.\n",
        "\n",
        "list(): Converts a value (such as a tuple or a string) to a list.\n",
        "\n",
        "tuple(): Converts a value (such as a list) to a tuple.\n",
        "\n"
      ],
      "metadata": {
        "id": "JViLRu0CIxT9"
      }
    },
    {
      "cell_type": "code",
      "source": [
        "#Example of Implicit Type Casting\n",
        "# Adding an integer and a float\n",
        "a = 5   #int\n",
        "b = 2.0 # float\n",
        "\n",
        "result = a + b  # Implicit conversion of 'a' (int) to 'b' (float)\n",
        "print(result)\n",
        "print(type(result))\n"
      ],
      "metadata": {
        "colab": {
          "base_uri": "https://localhost:8080/"
        },
        "id": "MVMJRdHaMiIJ",
        "outputId": "32437e3f-a7a0-4345-d813-5b9273273a40"
      },
      "execution_count": 10,
      "outputs": [
        {
          "output_type": "stream",
          "name": "stdout",
          "text": [
            "7.0\n",
            "<class 'float'>\n"
          ]
        }
      ]
    },
    {
      "cell_type": "code",
      "source": [
        "#Examples of Explicit Type Casting\n",
        "#Converting Float to Integer\n",
        "a = 10.7\n",
        "b = int(a)  # Convert float to int (truncates the decimal part)\n",
        "print(b)\n"
      ],
      "metadata": {
        "colab": {
          "base_uri": "https://localhost:8080/"
        },
        "id": "hxidQ8f1M7AZ",
        "outputId": "1b4b1549-c9b6-495f-ed9c-2de4684a73c2"
      },
      "execution_count": 11,
      "outputs": [
        {
          "output_type": "stream",
          "name": "stdout",
          "text": [
            "10\n"
          ]
        }
      ]
    },
    {
      "cell_type": "markdown",
      "source": [
        "### **Que 5. How do conditional statements work in Python? Illustrate with examples.**\n",
        "\n",
        "Conditional statements in Python are used to execute specific blocks of code based on whether a condition is true or false. These conditions typically involve comparisons or evaluations of expressions. Python offers several types of conditional statements, mainly using the if, elif, and else keywords.\n",
        "\n",
        "**Basic Syntax of Conditional Statements:**\n",
        "\n",
        "1.   if statment\n",
        "2.   elif (else if) statment\n",
        "3.   else statment\n",
        "\n"
      ],
      "metadata": {
        "id": "dZ3qc7IDN6m7"
      }
    },
    {
      "cell_type": "code",
      "source": [
        "# example\n",
        "\n",
        "x = 3\n",
        "\n",
        "if x > 5:\n",
        "    print(\"x is greater than 5\")\n",
        "elif x == 5:\n",
        "    print(\"x is equal to 5\")\n",
        "else:\n",
        "    print(\"x is less than 5\")\n"
      ],
      "metadata": {
        "colab": {
          "base_uri": "https://localhost:8080/"
        },
        "id": "peBFYPPwPpVh",
        "outputId": "502bd5c4-c3e5-49cb-8ebd-b87b2578490e"
      },
      "execution_count": 12,
      "outputs": [
        {
          "output_type": "stream",
          "name": "stdout",
          "text": [
            "x is less than 5\n"
          ]
        }
      ]
    },
    {
      "cell_type": "markdown",
      "source": [
        "### **Que 6. Describe the different types of loops in Python and their use cases with examples.**\n",
        "\n",
        "In Python, loops are used to repeat a block of code multiple times. The two main types of loops are the for loop and the while loop.\n",
        "\n",
        "**1. for loop**\n",
        ": A for loop in Python is typically used to iterate over a sequence (like a list, tuple, dictionary, string, or range of numbers) and perform an action for each element in the sequence.\n",
        "\n",
        "**2. while loop**\n",
        ": A while loop in Python keeps executing as long as a certain condition is True. The loop continues until the condition becomes False."
      ],
      "metadata": {
        "id": "CdM69OEtQGJ1"
      }
    },
    {
      "cell_type": "code",
      "source": [
        "# example of for loop\n",
        "# Printing numbers 0 to 4\n",
        "for i in range(5):\n",
        "    print(i)\n"
      ],
      "metadata": {
        "colab": {
          "base_uri": "https://localhost:8080/"
        },
        "id": "bkJCGC02ReKA",
        "outputId": "13600d24-a11e-4212-dea7-599446ddc903"
      },
      "execution_count": 13,
      "outputs": [
        {
          "output_type": "stream",
          "name": "stdout",
          "text": [
            "0\n",
            "1\n",
            "2\n",
            "3\n",
            "4\n"
          ]
        }
      ]
    },
    {
      "cell_type": "code",
      "source": [
        "# example for while loop\n",
        "i = 1\n",
        "while i <= 5:\n",
        "    print(i)\n",
        "    i += 1\n"
      ],
      "metadata": {
        "colab": {
          "base_uri": "https://localhost:8080/"
        },
        "id": "MLFnpIaWRz5j",
        "outputId": "fd6c3ac5-05da-4d72-dff3-41c27bfc6293"
      },
      "execution_count": 14,
      "outputs": [
        {
          "output_type": "stream",
          "name": "stdout",
          "text": [
            "1\n",
            "2\n",
            "3\n",
            "4\n",
            "5\n"
          ]
        }
      ]
    }
  ]
}